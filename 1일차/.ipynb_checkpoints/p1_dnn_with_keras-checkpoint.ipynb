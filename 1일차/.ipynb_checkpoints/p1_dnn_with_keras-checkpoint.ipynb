{
 "cells": [
  {
   "cell_type": "markdown",
   "metadata": {},
   "source": [
    "<font color='mediumblue'>\n",
    "## How to Build Neural Networks <br>\n",
    "Constructing Neural Networks to solve ML problems is a multiple-stage process. Generally, one can identify the key steps as follows:\n",
    "* ***step 1:*** Load and process the data\n",
    "* ***step 2:*** Define the model and its architecture\n",
    "* ***step 3:*** Choose the optimizer and the cost function\n",
    "* ***step 4:*** Train the model \n",
    "* ***step 5:*** Evaluate the model performance on the *unseen* test data\n",
    "* ***step 6:*** Modify the hyperparameters to optimize performance for the specific data set *(optional)*"
   ]
  },
  {
   "cell_type": "markdown",
   "metadata": {
    "colab_type": "text",
    "id": "ATYXO4XwySxL"
   },
   "source": [
    "## A real example — recognizing handwritten digits ##\n",
    "We will build networks that can recognize handwritten numbers. <br>\n",
    "For achieving this goal, we use MNIST, a database of handwritten digits made up of a training set of 60,000\n",
    "examples and a test set of 10,000 examples. \n",
    "<br>The training examples are annotated by humans\n",
    "with the correct answer. \n",
    "<br>For instance, if the handwritten digit is the number three, then\n",
    "three is simply the label associated with that example.<br>\n",
    "Each MNIST image is in gray scale, and it consists of 28 x 28 pixels. A subset of these\n",
    "numbers is represented in the following diagram:\n",
    "![Deep%20Learning%20with%20Keras.bmp](https://encrypted-tbn0.gstatic.com/images?q=tbn:ANd9GcToXD458Zgqs8VLLzbJPImOK6EgAf4OBquibDaUnw344dkcd1kT)"
   ]
  },
  {
   "cell_type": "markdown",
   "metadata": {},
   "source": [
    "We will build six different neural networks and compare their performance:\n",
    "* [Case #1: Defining a simple neural net in Keras](#Case-#1:-Defining-a-simple-neural-net-in-Keras)\n",
    "* [Case #2: Improving the simple net in Keras with hidden layers](#Case-#2:-Improving-the-simple-net-in-Keras-with-hidden-layers)\n",
    "* [Case #3: Further improving the simple net in Keras with dropout](#Case-#3:-Further-improving-the-simple-net-in-Keras-with-dropout)\n",
    "* [Case #4: Testing different optimizers in Keras](#Case-#4:-Testing-different-optimizers-in-Keras)\n",
    "* [Case #5: Adopting regularization for avoiding overfitting](#Case-#5:-Adopting-regularization-for-avoiding-overfitting)\n",
    "* [Case #6: Optimizing hyperparameters with Keras-scikit-wrapper](#Case-#6:-Optimizing-hyperparameters-with-Keras-scikit-wrapper)"
   ]
  },
  {
   "cell_type": "markdown",
   "metadata": {
    "colab_type": "text",
    "id": "ATYXO4XwySxL"
   },
   "source": [
    "<font color = \"#CC3D3D\">\n",
    "## Case #1: Defining a simple neural net in Keras"
   ]
  },
  {
   "cell_type": "markdown",
   "metadata": {},
   "source": [
    "##### Set Up"
   ]
  },
  {
   "cell_type": "code",
   "execution_count": 1,
   "metadata": {
    "colab": {
     "autoexec": {
      "startup": false,
      "wait_interval": 0
     },
     "base_uri": "https://localhost:8080/",
     "height": 35
    },
    "colab_type": "code",
    "executionInfo": {
     "elapsed": 2311,
     "status": "ok",
     "timestamp": 1525167296818,
     "user": {
      "displayName": "­조윤호(빅데이터경영통계전공)",
      "photoUrl": "https://lh3.googleusercontent.com/a/default-user=s128",
      "userId": "107121563618260277687"
     },
     "user_tz": -540
    },
    "id": "Gu7X8RqjySxN",
    "outputId": "bed732bd-7ed9-49cb-d1bb-d9156005e60f"
   },
   "outputs": [
    {
     "name": "stdout",
     "output_type": "stream",
     "text": [
      "Requirement already satisfied: pydot in /opt/anaconda3/lib/python3.7/site-packages (1.4.1)\n",
      "Requirement already satisfied: graphviz in /opt/anaconda3/lib/python3.7/site-packages (0.13.2)\n",
      "Requirement already satisfied: h5py in /opt/anaconda3/lib/python3.7/site-packages (2.9.0)\n",
      "Requirement already satisfied: pyparsing>=2.1.4 in /opt/anaconda3/lib/python3.7/site-packages (from pydot) (2.4.2)\n",
      "Requirement already satisfied: numpy>=1.7 in /opt/anaconda3/lib/python3.7/site-packages (from h5py) (1.17.2)\n",
      "Requirement already satisfied: six in /opt/anaconda3/lib/python3.7/site-packages (from h5py) (1.12.0)\n"
     ]
    }
   ],
   "source": [
    "# 모델 시각화 및 저장을 위해 관련 패키지를 아래와 같이 설치해야 한다.\n",
    "\n",
    "!pip install pydot graphviz h5py"
   ]
  },
  {
   "cell_type": "code",
   "execution_count": 2,
   "metadata": {},
   "outputs": [
    {
     "name": "stdout",
     "output_type": "stream",
     "text": [
      "Requirement already up-to-date: keras in /opt/anaconda3/lib/python3.7/site-packages (2.3.1)\n",
      "Requirement already satisfied, skipping upgrade: h5py in /opt/anaconda3/lib/python3.7/site-packages (from keras) (2.9.0)\n",
      "Requirement already satisfied, skipping upgrade: scipy>=0.14 in /opt/anaconda3/lib/python3.7/site-packages (from keras) (1.3.1)\n",
      "Requirement already satisfied, skipping upgrade: keras-applications>=1.0.6 in /opt/anaconda3/lib/python3.7/site-packages (from keras) (1.0.8)\n",
      "Requirement already satisfied, skipping upgrade: keras-preprocessing>=1.0.5 in /opt/anaconda3/lib/python3.7/site-packages (from keras) (1.1.0)\n",
      "Requirement already satisfied, skipping upgrade: six>=1.9.0 in /opt/anaconda3/lib/python3.7/site-packages (from keras) (1.12.0)\n",
      "Requirement already satisfied, skipping upgrade: pyyaml in /opt/anaconda3/lib/python3.7/site-packages (from keras) (5.1.2)\n",
      "Requirement already satisfied, skipping upgrade: numpy>=1.9.1 in /opt/anaconda3/lib/python3.7/site-packages (from keras) (1.17.2)\n",
      "Note: you may need to restart the kernel to use updated packages.\n"
     ]
    }
   ],
   "source": [
    "pip install keras --upgrade"
   ]
  },
  {
   "cell_type": "code",
   "execution_count": 3,
   "metadata": {
    "colab": {
     "autoexec": {
      "startup": false,
      "wait_interval": 0
     },
     "base_uri": "https://localhost:8080/",
     "height": 35
    },
    "colab_type": "code",
    "executionInfo": {
     "elapsed": 2311,
     "status": "ok",
     "timestamp": 1525167296818,
     "user": {
      "displayName": "­조윤호(빅데이터경영통계전공)",
      "photoUrl": "https://lh3.googleusercontent.com/a/default-user=s128",
      "userId": "107121563618260277687"
     },
     "user_tz": -540
    },
    "id": "Gu7X8RqjySxN",
    "outputId": "bed732bd-7ed9-49cb-d1bb-d9156005e60f"
   },
   "outputs": [
    {
     "name": "stderr",
     "output_type": "stream",
     "text": [
      "Using TensorFlow backend.\n"
     ]
    }
   ],
   "source": [
    "#\n",
    "# Setting for obtaining reproducible results\n",
    "#\n",
    "\n",
    "import numpy as np\n",
    "import tensorflow as tf\n",
    "import random as rn\n",
    "\n",
    "# The below is necessary in Python 3.2.3 onwards to\n",
    "# have reproducible behavior for certain hash-based operations.\n",
    "# See these references for further details:\n",
    "# https://docs.python.org/3.4/using/cmdline.html#envvar-PYTHONHASHSEED\n",
    "# https://github.com/keras-team/keras/issues/2280#issuecomment-306959926\n",
    "\n",
    "import os\n",
    "os.environ['PYTHONHASHSEED'] = '0'\n",
    "\n",
    "# The below is necessary for starting Numpy generated random numbers\n",
    "# in a well-defined initial state.\n",
    "\n",
    "np.random.seed(42)\n",
    "\n",
    "# The below is necessary for starting core Python generated random numbers\n",
    "# in a well-defined state.\n",
    "\n",
    "#rn.seed(12345)\n",
    "\n",
    "# Force TensorFlow to use single thread.\n",
    "# Multiple threads are a potential source of\n",
    "# non-reproducible results.\n",
    "\n",
    "session_conf = tf.ConfigProto(intra_op_parallelism_threads=1, \n",
    "                              inter_op_parallelism_threads=1)\n",
    "\n",
    "from keras import backend as K\n",
    "\n",
    "# The below tf.set_random_seed() will make random number generation\n",
    "# in the TensorFlow backend have a well-defined initial state.\n",
    "# For further details, \n",
    "# see: https://www.tensorflow.org/api_docs/python/tf/set_random_seed\n",
    "\n",
    "tf.set_random_seed(1234)\n",
    "\n",
    "sess = tf.Session(graph=tf.get_default_graph(), config=session_conf)\n",
    "K.set_session(sess)"
   ]
  },
  {
   "cell_type": "code",
   "execution_count": 4,
   "metadata": {
    "colab": {
     "autoexec": {
      "startup": false,
      "wait_interval": 0
     },
     "base_uri": "https://localhost:8080/",
     "height": 35
    },
    "colab_type": "code",
    "executionInfo": {
     "elapsed": 2311,
     "status": "ok",
     "timestamp": 1525167296818,
     "user": {
      "displayName": "­조윤호(빅데이터경영통계전공)",
      "photoUrl": "https://lh3.googleusercontent.com/a/default-user=s128",
      "userId": "107121563618260277687"
     },
     "user_tz": -540
    },
    "id": "Gu7X8RqjySxN",
    "outputId": "bed732bd-7ed9-49cb-d1bb-d9156005e60f"
   },
   "outputs": [],
   "source": [
    "import keras, sklearn\n",
    "import matplotlib.pyplot as plt\n",
    "from keras.datasets import mnist\n",
    "from keras.models import Sequential\n",
    "from keras.layers.core import Dense, Activation\n",
    "from keras.optimizers import SGD\n",
    "from keras.utils import np_utils"
   ]
  },
  {
   "cell_type": "markdown",
   "metadata": {
    "colab_type": "text",
    "id": "ssz9-VkkySxe"
   },
   "source": [
    "### Step 1: Load and Process the Data ###"
   ]
  },
  {
   "cell_type": "code",
   "execution_count": 5,
   "metadata": {
    "colab": {
     "autoexec": {
      "startup": false,
      "wait_interval": 0
     },
     "base_uri": "https://localhost:8080/",
     "height": 89
    },
    "colab_type": "code",
    "executionInfo": {
     "elapsed": 3786,
     "status": "ok",
     "timestamp": 1525167308978,
     "user": {
      "displayName": "­조윤호(빅데이터경영통계전공)",
      "photoUrl": "https://lh3.googleusercontent.com/a/default-user=s128",
      "userId": "107121563618260277687"
     },
     "user_tz": -540
    },
    "id": "G-eVw42hySxg",
    "outputId": "5c4fcfeb-8775-444d-df3a-d35d629a8349"
   },
   "outputs": [
    {
     "name": "stdout",
     "output_type": "stream",
     "text": [
      "60000 train samples\n",
      "10000 test samples\n"
     ]
    }
   ],
   "source": [
    "# mnist 이미지 데이터\n",
    "(X_train, y_train), (X_test, y_test) = mnist.load_data()\n",
    "#X_train is 60000 rows of 28x28 values --> reshaped in 60000 x 784\n",
    "RESHAPED = 784 # 전체 픽셀 갯수\n",
    "\n",
    "X_train = X_train.reshape(60000, RESHAPED) # 학습이미지 6만개\n",
    "X_test = X_test.reshape(10000, RESHAPED) # 평가이미지 만개\n",
    "X_train = X_train.astype('float32')\n",
    "X_test = X_test.astype('float32')\n",
    "\n",
    "# 한 픽셀 값은 0~255로 표현된다. 0은 흰색, 255는 검은색\n",
    "\n",
    "# normalize\n",
    "X_train /= 255 \n",
    "X_test /= 255\n",
    "print(X_train.shape[0], 'train samples')\n",
    "print(X_test.shape[0], 'test samples')\n",
    "\n",
    "# convert class vectors to binary class matrices\n",
    "# 뉴럴넷은 입력데이터에 대한 스케일 조정이 필요\n",
    "# to_categorical : 찾을 값이 0~9까지이므로 10개로 원핫 인코딩을 한다.\n",
    "Y_train = np_utils.to_categorical(y_train, 10)\n",
    "Y_test = np_utils.to_categorical(y_test, 10)"
   ]
  },
  {
   "cell_type": "markdown",
   "metadata": {
    "colab_type": "text",
    "id": "PPOWln24ySxl"
   },
   "source": [
    "### Step 2: Define the Model & its Architecture ###"
   ]
  },
  {
   "cell_type": "code",
   "execution_count": 6,
   "metadata": {
    "colab": {
     "autoexec": {
      "startup": false,
      "wait_interval": 0
     },
     "base_uri": "https://localhost:8080/",
     "height": 215
    },
    "colab_type": "code",
    "executionInfo": {
     "elapsed": 656,
     "status": "ok",
     "timestamp": 1525167312928,
     "user": {
      "displayName": "­조윤호(빅데이터경영통계전공)",
      "photoUrl": "https://lh3.googleusercontent.com/a/default-user=s128",
      "userId": "107121563618260277687"
     },
     "user_tz": -540
    },
    "id": "s2e6eVxBySxn",
    "outputId": "a2a5c500-0025-4e7c-fd08-072c2a0c59ce"
   },
   "outputs": [
    {
     "name": "stdout",
     "output_type": "stream",
     "text": [
      "WARNING:tensorflow:From /opt/anaconda3/lib/python3.7/site-packages/tensorflow_core/python/ops/resource_variable_ops.py:1630: calling BaseResourceVariable.__init__ (from tensorflow.python.ops.resource_variable_ops) with constraint is deprecated and will be removed in a future version.\n",
      "Instructions for updating:\n",
      "If using Keras pass *_constraint arguments to layers.\n",
      "Model: \"sequential_1\"\n",
      "_________________________________________________________________\n",
      "Layer (type)                 Output Shape              Param #   \n",
      "=================================================================\n",
      "dense_1 (Dense)              (None, 10)                7850      \n",
      "_________________________________________________________________\n",
      "activation_1 (Activation)    (None, 10)                0         \n",
      "=================================================================\n",
      "Total params: 7,850\n",
      "Trainable params: 7,850\n",
      "Non-trainable params: 0\n",
      "_________________________________________________________________\n"
     ]
    }
   ],
   "source": [
    "# 10 outputs\n",
    "# final stage is softmax\n",
    "model = Sequential()\n",
    "\n",
    "# Dense : 입력모드가 784(RESHAPED), 첫번째 히든레이어는 10개로 연결하라\n",
    "model.add(Dense(10, input_shape=(RESHAPED,))) \n",
    "model.add(Activation('softmax'))\n",
    "\n",
    "model.summary() # 종합한것을 본다.  \n",
    "# Param 이 weight 이다. 7850개를 학습시키면 된다."
   ]
  },
  {
   "cell_type": "code",
   "execution_count": 7,
   "metadata": {
    "colab": {
     "autoexec": {
      "startup": false,
      "wait_interval": 0
     },
     "base_uri": "https://localhost:8080/",
     "height": 604
    },
    "colab_type": "code",
    "executionInfo": {
     "elapsed": 844,
     "status": "error",
     "timestamp": 1525166603719,
     "user": {
      "displayName": "­조윤호(빅데이터경영통계전공)",
      "photoUrl": "https://lh3.googleusercontent.com/a/default-user=s128",
      "userId": "107121563618260277687"
     },
     "user_tz": -540
    },
    "id": "auG6u0kLySxs",
    "outputId": "6a342f5b-4ca4-464d-958e-5a2413828293"
   },
   "outputs": [
    {
     "data": {
      "image/png": "[encoded data removed]",
      "text/plain": [
       "<IPython.core.display.Image object>"
      ]
     },
     "execution_count": 7,
     "metadata": {},
     "output_type": "execute_result"
    }
   ],
   "source": [
    "from IPython.display import Image\n",
    "from keras.utils.vis_utils import model_to_dot\n",
    "\n",
    "Image(model_to_dot(model,show_shapes=True, show_layer_names=False).create(prog='dot', format='png'))"
   ]
  },
  {
   "cell_type": "markdown",
   "metadata": {},
   "source": [
    "### Step 3: Choose the Optimizer and the Cost function"
   ]
  },
  {
   "cell_type": "code",
   "execution_count": 8,
   "metadata": {
    "colab": {
     "autoexec": {
      "startup": false,
      "wait_interval": 0
     },
     "base_uri": "https://localhost:8080/",
     "height": 1516
    },
    "colab_type": "code",
    "executionInfo": {
     "elapsed": 34654,
     "status": "ok",
     "timestamp": 1525167354316,
     "user": {
      "displayName": "­조윤호(빅데이터경영통계전공)",
      "photoUrl": "https://lh3.googleusercontent.com/a/default-user=s128",
      "userId": "107121563618260277687"
     },
     "user_tz": -540
    },
    "id": "gFE6aAZNySx0",
    "outputId": "05efd6b2-ae99-4041-ca43-915a1ce58856"
   },
   "outputs": [],
   "source": [
    "# optimizer : SGD 는 최적의 방법을 찾는 것\n",
    "model.compile(loss='categorical_crossentropy', optimizer=SGD(), metrics=['accuracy'])"
   ]
  },
  {
   "cell_type": "markdown",
   "metadata": {
    "colab_type": "text",
    "id": "_JWYMMeGySxy"
   },
   "source": [
    "### Step 4: Train the Model"
   ]
  },
  {
   "cell_type": "code",
   "execution_count": 9,
   "metadata": {
    "colab": {
     "autoexec": {
      "startup": false,
      "wait_interval": 0
     },
     "base_uri": "https://localhost:8080/",
     "height": 1516
    },
    "colab_type": "code",
    "executionInfo": {
     "elapsed": 34654,
     "status": "ok",
     "timestamp": 1525167354316,
     "user": {
      "displayName": "­조윤호(빅데이터경영통계전공)",
      "photoUrl": "https://lh3.googleusercontent.com/a/default-user=s128",
      "userId": "107121563618260277687"
     },
     "user_tz": -540
    },
    "id": "gFE6aAZNySx0",
    "outputId": "05efd6b2-ae99-4041-ca43-915a1ce58856"
   },
   "outputs": [
    {
     "name": "stdout",
     "output_type": "stream",
     "text": [
      "WARNING:tensorflow:From /opt/anaconda3/lib/python3.7/site-packages/keras/backend/tensorflow_backend.py:422: The name tf.global_variables is deprecated. Please use tf.compat.v1.global_variables instead.\n",
      "\n",
      "Train on 48000 samples, validate on 12000 samples\n",
      "Epoch 1/30\n",
      "48000/48000 [==============================] - 1s 21us/step - loss: 1.3995 - accuracy: 0.6581 - val_loss: 0.8983 - val_accuracy: 0.8257\n",
      "Epoch 2/30\n",
      "48000/48000 [==============================] - 1s 16us/step - loss: 0.7951 - accuracy: 0.8276 - val_loss: 0.6579 - val_accuracy: 0.8565\n",
      "Epoch 3/30\n",
      "48000/48000 [==============================] - 1s 15us/step - loss: 0.6440 - accuracy: 0.8499 - val_loss: 0.5617 - val_accuracy: 0.8683\n",
      "Epoch 4/30\n",
      "48000/48000 [==============================] - 1s 16us/step - loss: 0.5711 - accuracy: 0.8608 - val_loss: 0.5088 - val_accuracy: 0.8767\n",
      "Epoch 5/30\n",
      "48000/48000 [==============================] - 1s 16us/step - loss: 0.5269 - accuracy: 0.8675 - val_loss: 0.4746 - val_accuracy: 0.8818\n",
      "Epoch 6/30\n",
      "48000/48000 [==============================] - 1s 16us/step - loss: 0.4964 - accuracy: 0.8732 - val_loss: 0.4505 - val_accuracy: 0.8868\n",
      "Epoch 7/30\n",
      "48000/48000 [==============================] - 1s 16us/step - loss: 0.4739 - accuracy: 0.8773 - val_loss: 0.4322 - val_accuracy: 0.8910\n",
      "Epoch 8/30\n",
      "48000/48000 [==============================] - 1s 16us/step - loss: 0.4565 - accuracy: 0.8805 - val_loss: 0.4181 - val_accuracy: 0.8924\n",
      "Epoch 9/30\n",
      "48000/48000 [==============================] - 1s 16us/step - loss: 0.4424 - accuracy: 0.8827 - val_loss: 0.4063 - val_accuracy: 0.8953\n",
      "Epoch 10/30\n",
      "48000/48000 [==============================] - 1s 15us/step - loss: 0.4308 - accuracy: 0.8849 - val_loss: 0.3968 - val_accuracy: 0.8963\n",
      "Epoch 11/30\n",
      "48000/48000 [==============================] - 1s 16us/step - loss: 0.4209 - accuracy: 0.8870 - val_loss: 0.3885 - val_accuracy: 0.8982\n",
      "Epoch 12/30\n",
      "48000/48000 [==============================] - 1s 29us/step - loss: 0.4125 - accuracy: 0.8888 - val_loss: 0.3816 - val_accuracy: 0.8997\n",
      "Epoch 13/30\n",
      "48000/48000 [==============================] - 1s 21us/step - loss: 0.4052 - accuracy: 0.8902 - val_loss: 0.3757 - val_accuracy: 0.9015\n",
      "Epoch 14/30\n",
      "48000/48000 [==============================] - 1s 17us/step - loss: 0.3987 - accuracy: 0.8916 - val_loss: 0.3702 - val_accuracy: 0.9023\n",
      "Epoch 15/30\n",
      "48000/48000 [==============================] - 1s 26us/step - loss: 0.3928 - accuracy: 0.8932 - val_loss: 0.3653 - val_accuracy: 0.9040\n",
      "Epoch 16/30\n",
      "48000/48000 [==============================] - 1s 16us/step - loss: 0.3877 - accuracy: 0.8941 - val_loss: 0.3611 - val_accuracy: 0.9045\n",
      "Epoch 17/30\n",
      "48000/48000 [==============================] - 1s 17us/step - loss: 0.3830 - accuracy: 0.8954 - val_loss: 0.3571 - val_accuracy: 0.9054\n",
      "Epoch 18/30\n",
      "48000/48000 [==============================] - 1s 16us/step - loss: 0.3787 - accuracy: 0.8965 - val_loss: 0.3536 - val_accuracy: 0.9056\n",
      "Epoch 19/30\n",
      "48000/48000 [==============================] - 1s 16us/step - loss: 0.3747 - accuracy: 0.8971 - val_loss: 0.3506 - val_accuracy: 0.9052\n",
      "Epoch 20/30\n",
      "48000/48000 [==============================] - 1s 16us/step - loss: 0.3711 - accuracy: 0.8977 - val_loss: 0.3474 - val_accuracy: 0.9072\n",
      "Epoch 21/30\n",
      "48000/48000 [==============================] - 1s 16us/step - loss: 0.3678 - accuracy: 0.8984 - val_loss: 0.3446 - val_accuracy: 0.9082\n",
      "Epoch 22/30\n",
      "48000/48000 [==============================] - 1s 17us/step - loss: 0.3646 - accuracy: 0.8991 - val_loss: 0.3421 - val_accuracy: 0.9083\n",
      "Epoch 23/30\n",
      "48000/48000 [==============================] - 1s 16us/step - loss: 0.3618 - accuracy: 0.9001 - val_loss: 0.3397 - val_accuracy: 0.9091\n",
      "Epoch 24/30\n",
      "48000/48000 [==============================] - 1s 29us/step - loss: 0.3591 - accuracy: 0.9006 - val_loss: 0.3376 - val_accuracy: 0.9096\n",
      "Epoch 25/30\n",
      "48000/48000 [==============================] - 1s 17us/step - loss: 0.3565 - accuracy: 0.9014 - val_loss: 0.3354 - val_accuracy: 0.9096\n",
      "Epoch 26/30\n",
      "48000/48000 [==============================] - 1s 17us/step - loss: 0.3541 - accuracy: 0.9021 - val_loss: 0.3334 - val_accuracy: 0.9102\n",
      "Epoch 27/30\n",
      "48000/48000 [==============================] - 1s 16us/step - loss: 0.3519 - accuracy: 0.9026 - val_loss: 0.3316 - val_accuracy: 0.9106\n",
      "Epoch 28/30\n",
      "48000/48000 [==============================] - 1s 17us/step - loss: 0.3498 - accuracy: 0.9033 - val_loss: 0.3300 - val_accuracy: 0.9108\n",
      "Epoch 29/30\n",
      "48000/48000 [==============================] - 1s 16us/step - loss: 0.3478 - accuracy: 0.9036 - val_loss: 0.3283 - val_accuracy: 0.9110\n",
      "Epoch 30/30\n",
      "48000/48000 [==============================] - 1s 16us/step - loss: 0.3459 - accuracy: 0.9038 - val_loss: 0.3268 - val_accuracy: 0.9118\n",
      "CPU times: user 1min 33s, sys: 1.59 s, total: 1min 35s\n",
      "Wall time: 25.7 s\n"
     ]
    }
   ],
   "source": [
    "%%time\n",
    "# validation_split 0.2 : 80은 학습하고 20%는 평가를 위해 남겨 두겠다\n",
    "# verbose : 중간 중간의 과정을 찍을 것인지 말것인지, 얼마나 자세하게 정보를 표시할 것인가를 지정. (0, 1, 2)\n",
    "history = model.fit(X_train, Y_train, batch_size=128, epochs=30, verbose=1, \n",
    "                    validation_split=0.2)\n",
    "# history변수에 저장한 것은 나중에 체크해보기 위함."
   ]
  },
  {
   "cell_type": "code",
   "execution_count": 10,
   "metadata": {
    "colab": {
     "autoexec": {
      "startup": false,
      "wait_interval": 0
     },
     "base_uri": "https://localhost:8080/",
     "height": 1516
    },
    "colab_type": "code",
    "executionInfo": {
     "elapsed": 34654,
     "status": "ok",
     "timestamp": 1525167354316,
     "user": {
      "displayName": "­조윤호(빅데이터경영통계전공)",
      "photoUrl": "https://lh3.googleusercontent.com/a/default-user=s128",
      "userId": "107121563618260277687"
     },
     "user_tz": -540
    },
    "id": "gFE6aAZNySx0",
    "outputId": "05efd6b2-ae99-4041-ca43-915a1ce58856"
   },
   "outputs": [
    {
     "data": {
      "image/png": "[encoded data removed]",
      "text/plain": [
       "<Figure size 432x288 with 1 Axes>"
      ]
     },
     "metadata": {
      "needs_background": "light"
     },
     "output_type": "display_data"
    }
   ],
   "source": [
    "plt.plot(history.history[\"loss\"], label=\"train loss\")\n",
    "plt.plot(history.history[\"val_loss\"], label=\"validation loss\")\n",
    "plt.legend()\n",
    "plt.title(\"Loss\")\n",
    "plt.show()"
   ]
  },
  {
   "cell_type": "markdown",
   "metadata": {
    "colab_type": "text",
    "id": "go4XJWF-ySx5"
   },
   "source": [
    "### Step 5: Evaluate the Model performance"
   ]
  },
  {
   "cell_type": "code",
   "execution_count": 11,
   "metadata": {
    "colab": {
     "autoexec": {
      "startup": false,
      "wait_interval": 0
     },
     "base_uri": "https://localhost:8080/",
     "height": 71
    },
    "colab_type": "code",
    "executionInfo": {
     "elapsed": 1025,
     "status": "ok",
     "timestamp": 1525167075715,
     "user": {
      "displayName": "­조윤호(빅데이터경영통계전공)",
      "photoUrl": "https://lh3.googleusercontent.com/a/default-user=s128",
      "userId": "107121563618260277687"
     },
     "user_tz": -540
    },
    "id": "59JE1yQDySx7",
    "outputId": "830e533f-730e-4e8b-a3a4-a88ee8d7ecad"
   },
   "outputs": [
    {
     "name": "stdout",
     "output_type": "stream",
     "text": [
      "10000/10000 [==============================] - 0s 25us/step\n",
      "Test score: 0.32661683259010316\n",
      "Test accuracy: 0.910099983215332\n"
     ]
    }
   ],
   "source": [
    "# evaluate : 전체\n",
    "# 케라스는 pridict 하면 확률을 출력한다.\n",
    "score = model.evaluate(X_test, Y_test, verbose=1)\n",
    "print(\"Test score:\", score[0])\n",
    "print('Test accuracy:', score[1])"
   ]
  },
  {
   "cell_type": "markdown",
   "metadata": {
    "colab_type": "text",
    "id": "UCQk-EQQANOO"
   },
   "source": [
    "##### Save & Load the Model"
   ]
  },
  {
   "cell_type": "code",
   "execution_count": 12,
   "metadata": {
    "colab": {
     "autoexec": {
      "startup": false,
      "wait_interval": 0
     },
     "base_uri": "https://localhost:8080/",
     "height": 35
    },
    "colab_type": "code",
    "executionInfo": {
     "elapsed": 1748,
     "status": "ok",
     "timestamp": 1525099406503,
     "user": {
      "displayName": "­조윤호(빅데이터경영통계전공)",
      "photoUrl": "https://lh3.googleusercontent.com/a/default-user=s128",
      "userId": "107121563618260277687"
     },
     "user_tz": -540
    },
    "id": "EnlOq1ni_fxZ",
    "outputId": "58e130f7-f1b5-4131-9582-4f2ba4fd2897"
   },
   "outputs": [],
   "source": [
    "from keras.models import load_model"
   ]
  },
  {
   "cell_type": "code",
   "execution_count": 13,
   "metadata": {
    "colab": {
     "autoexec": {
      "startup": false,
      "wait_interval": 0
     },
     "base_uri": "https://localhost:8080/",
     "height": 35
    },
    "colab_type": "code",
    "executionInfo": {
     "elapsed": 1748,
     "status": "ok",
     "timestamp": 1525099406503,
     "user": {
      "displayName": "­조윤호(빅데이터경영통계전공)",
      "photoUrl": "https://lh3.googleusercontent.com/a/default-user=s128",
      "userId": "107121563618260277687"
     },
     "user_tz": -540
    },
    "id": "EnlOq1ni_fxZ",
    "outputId": "58e130f7-f1b5-4131-9582-4f2ba4fd2897"
   },
   "outputs": [
    {
     "name": "stdout",
     "output_type": "stream",
     "text": [
      "1_Mathematircal_building_blocks.ipynb  cats_and_dogs_small_1.h5\r\n",
      "2_DNN.ipynb                            cats_and_dogs_small_2.h5\r\n",
      "3_Improving_Deep_Neural_Network.ipynb  \u001b[34mdata\u001b[m\u001b[m/\r\n",
      "4_Intro_CNN.ipynb                      \u001b[34mfigures\u001b[m\u001b[m/\r\n",
      "5_Classic_CNN.ipynb                    mnist_dnn_01.h5\r\n",
      "6_CNN_with_small_datasets.ipynb        p1_dnn_with_keras.ipynb\r\n",
      "Ex4-1_CNN_with_MNIST_190406.ipynb      y_train.csv\r\n",
      "X_test.csv\r\n"
     ]
    }
   ],
   "source": [
    "model.save('mnist_dnn_01.h5')\n",
    "%ls"
   ]
  },
  {
   "cell_type": "code",
   "execution_count": 14,
   "metadata": {
    "colab": {
     "autoexec": {
      "startup": false,
      "wait_interval": 0
     },
     "base_uri": "https://localhost:8080/",
     "height": 312
    },
    "colab_type": "code",
    "executionInfo": {
     "elapsed": 1174,
     "status": "ok",
     "timestamp": 1525099305778,
     "user": {
      "displayName": "­조윤호(빅데이터경영통계전공)",
      "photoUrl": "https://lh3.googleusercontent.com/a/default-user=s128",
      "userId": "107121563618260277687"
     },
     "user_tz": -540
    },
    "id": "HbXZvVjR_x94",
    "outputId": "0fdeb090-bbf5-4c94-d3b6-17a0642df74a"
   },
   "outputs": [
    {
     "data": {
      "image/png": "[encoded data removed]",
      "text/plain": [
       "<IPython.core.display.Image object>"
      ]
     },
     "execution_count": 14,
     "metadata": {},
     "output_type": "execute_result"
    }
   ],
   "source": [
    "model2 = load_model('mnist_dnn_01.h5')\n",
    "Image(model_to_dot(model2,show_shapes=True, show_layer_names=False).create(prog='dot', format='png'))"
   ]
  },
  {
   "cell_type": "markdown",
   "metadata": {},
   "source": [
    "<font color = \"#CC3D3D\"><br>\n",
    "## Case #2: Improving the simple net in Keras with hidden layers"
   ]
  },
  {
   "cell_type": "markdown",
   "metadata": {
    "colab_type": "text",
    "id": "PPOWln24ySxl"
   },
   "source": [
    "### Step 2: Define the Model & its Architecture ###"
   ]
  },
  {
   "cell_type": "code",
   "execution_count": 15,
   "metadata": {},
   "outputs": [
    {
     "name": "stdout",
     "output_type": "stream",
     "text": [
      "Model: \"sequential_2\"\n",
      "_________________________________________________________________\n",
      "Layer (type)                 Output Shape              Param #   \n",
      "=================================================================\n",
      "dense_2 (Dense)              (None, 32)                25120     \n",
      "_________________________________________________________________\n",
      "activation_2 (Activation)    (None, 32)                0         \n",
      "_________________________________________________________________\n",
      "dense_3 (Dense)              (None, 32)                1056      \n",
      "_________________________________________________________________\n",
      "dense_4 (Dense)              (None, 32)                1056      \n",
      "_________________________________________________________________\n",
      "activation_3 (Activation)    (None, 32)                0         \n",
      "_________________________________________________________________\n",
      "dense_5 (Dense)              (None, 10)                330       \n",
      "_________________________________________________________________\n",
      "activation_4 (Activation)    (None, 10)                0         \n",
      "=================================================================\n",
      "Total params: 27,562\n",
      "Trainable params: 27,562\n",
      "Non-trainable params: 0\n",
      "_________________________________________________________________\n"
     ]
    }
   ],
   "source": [
    "model = Sequential()\n",
    "\n",
    "# 첫번째 층\n",
    "model.add(Dense(32, input_shape=(RESHAPED,)))\n",
    "model.add(Activation('relu')) # 엑티베이션 함수를 relu 함수로 사용\n",
    "\n",
    "# 두변째 층\n",
    "model.add(Dense(32, activation='relu')) # 위의 두줄을 한줄로 표현\n",
    "#model.add(Activation('relu'))\n",
    "\n",
    "# 세번째 층\n",
    "model.add(Dense(32))\n",
    "model.add(Activation('relu'))\n",
    "\n",
    "# 출력층\n",
    "model.add(Dense(10))\n",
    "model.add(Activation('softmax'))\n",
    "\n",
    "model.summary()\n",
    "\n",
    "# 총 weight 수가 27,562개"
   ]
  },
  {
   "cell_type": "code",
   "execution_count": 16,
   "metadata": {},
   "outputs": [
    {
     "data": {
      "image/png": "[encoded data removed]",
      "text/plain": [
       "<IPython.core.display.Image object>"
      ]
     },
     "execution_count": 16,
     "metadata": {},
     "output_type": "execute_result"
    }
   ],
   "source": [
    "Image(model_to_dot(model,show_shapes=True, show_layer_names=False).create(prog='dot', format='png'))"
   ]
  },
  {
   "cell_type": "markdown",
   "metadata": {},
   "source": [
    "### Step 3: Choose the Optimizer and the Cost function"
   ]
  },
  {
   "cell_type": "code",
   "execution_count": 17,
   "metadata": {},
   "outputs": [],
   "source": [
    "model.compile(loss='categorical_crossentropy', optimizer=SGD(), metrics=['accuracy'])\n",
    "#model.compile(loss='categorical_crossentropy', optimizer=Adam, metrics=['accuracy'])"
   ]
  },
  {
   "cell_type": "markdown",
   "metadata": {
    "colab_type": "text",
    "id": "_JWYMMeGySxy"
   },
   "source": [
    "### Step 4: Train the Model"
   ]
  },
  {
   "cell_type": "code",
   "execution_count": 18,
   "metadata": {},
   "outputs": [
    {
     "name": "stdout",
     "output_type": "stream",
     "text": [
      "Train on 48000 samples, validate on 12000 samples\n",
      "Epoch 1/30\n",
      "48000/48000 [==============================] - 3s 63us/step - loss: 1.1793 - accuracy: 0.6684 - val_loss: 0.4833 - val_accuracy: 0.8667\n",
      "Epoch 2/30\n",
      "48000/48000 [==============================] - 3s 55us/step - loss: 0.4182 - accuracy: 0.8800 - val_loss: 0.3348 - val_accuracy: 0.9053\n",
      "Epoch 3/30\n",
      "48000/48000 [==============================] - 2s 47us/step - loss: 0.3358 - accuracy: 0.9020 - val_loss: 0.2937 - val_accuracy: 0.9151\n",
      "Epoch 4/30\n",
      "48000/48000 [==============================] - 2s 46us/step - loss: 0.2979 - accuracy: 0.9119 - val_loss: 0.2727 - val_accuracy: 0.9186\n",
      "Epoch 5/30\n",
      "48000/48000 [==============================] - 2s 47us/step - loss: 0.2710 - accuracy: 0.9204 - val_loss: 0.2467 - val_accuracy: 0.9287\n",
      "Epoch 6/30\n",
      "48000/48000 [==============================] - 3s 64us/step - loss: 0.2496 - accuracy: 0.9264 - val_loss: 0.2354 - val_accuracy: 0.9318\n",
      "Epoch 7/30\n",
      "48000/48000 [==============================] - 2s 49us/step - loss: 0.2319 - accuracy: 0.9319 - val_loss: 0.2202 - val_accuracy: 0.9361\n",
      "Epoch 8/30\n",
      "48000/48000 [==============================] - 2s 44us/step - loss: 0.2162 - accuracy: 0.9367 - val_loss: 0.2040 - val_accuracy: 0.9410\n",
      "Epoch 9/30\n",
      "48000/48000 [==============================] - 2s 47us/step - loss: 0.2026 - accuracy: 0.9406 - val_loss: 0.1975 - val_accuracy: 0.9427\n",
      "Epoch 10/30\n",
      "48000/48000 [==============================] - 2s 49us/step - loss: 0.1910 - accuracy: 0.9445 - val_loss: 0.1890 - val_accuracy: 0.9457\n",
      "Epoch 11/30\n",
      "48000/48000 [==============================] - 2s 46us/step - loss: 0.1807 - accuracy: 0.9471 - val_loss: 0.1797 - val_accuracy: 0.9493\n",
      "Epoch 12/30\n",
      "48000/48000 [==============================] - 2s 44us/step - loss: 0.1713 - accuracy: 0.9499 - val_loss: 0.1754 - val_accuracy: 0.9516\n",
      "Epoch 13/30\n",
      "48000/48000 [==============================] - 2s 47us/step - loss: 0.1633 - accuracy: 0.9524 - val_loss: 0.1701 - val_accuracy: 0.9524\n",
      "Epoch 14/30\n",
      "48000/48000 [==============================] - 2s 48us/step - loss: 0.1554 - accuracy: 0.9553 - val_loss: 0.1635 - val_accuracy: 0.9538\n",
      "Epoch 15/30\n",
      "48000/48000 [==============================] - 3s 63us/step - loss: 0.1490 - accuracy: 0.9569 - val_loss: 0.1608 - val_accuracy: 0.9537\n",
      "Epoch 16/30\n",
      "48000/48000 [==============================] - 2s 48us/step - loss: 0.1426 - accuracy: 0.9585 - val_loss: 0.1593 - val_accuracy: 0.9543\n",
      "Epoch 17/30\n",
      "48000/48000 [==============================] - 2s 45us/step - loss: 0.1365 - accuracy: 0.9600 - val_loss: 0.1536 - val_accuracy: 0.9568\n",
      "Epoch 18/30\n",
      "48000/48000 [==============================] - 2s 45us/step - loss: 0.1317 - accuracy: 0.9623 - val_loss: 0.1496 - val_accuracy: 0.9567\n",
      "Epoch 19/30\n",
      "48000/48000 [==============================] - 2s 46us/step - loss: 0.1264 - accuracy: 0.9634 - val_loss: 0.1488 - val_accuracy: 0.9582\n",
      "Epoch 20/30\n",
      "48000/48000 [==============================] - 2s 45us/step - loss: 0.1229 - accuracy: 0.9639 - val_loss: 0.1440 - val_accuracy: 0.9585\n",
      "Epoch 21/30\n",
      "48000/48000 [==============================] - 2s 48us/step - loss: 0.1186 - accuracy: 0.9663 - val_loss: 0.1494 - val_accuracy: 0.9578\n",
      "Epoch 22/30\n",
      "48000/48000 [==============================] - 2s 47us/step - loss: 0.1143 - accuracy: 0.9662 - val_loss: 0.1416 - val_accuracy: 0.9594\n",
      "Epoch 23/30\n",
      "48000/48000 [==============================] - 2s 47us/step - loss: 0.1107 - accuracy: 0.9682 - val_loss: 0.1392 - val_accuracy: 0.9594\n",
      "Epoch 24/30\n",
      "48000/48000 [==============================] - 3s 61us/step - loss: 0.1080 - accuracy: 0.9687 - val_loss: 0.1376 - val_accuracy: 0.9604\n",
      "Epoch 25/30\n",
      "48000/48000 [==============================] - 2s 51us/step - loss: 0.1049 - accuracy: 0.9698 - val_loss: 0.1348 - val_accuracy: 0.9612\n",
      "Epoch 26/30\n",
      "48000/48000 [==============================] - 2s 49us/step - loss: 0.1019 - accuracy: 0.9703 - val_loss: 0.1337 - val_accuracy: 0.9617\n",
      "Epoch 27/30\n",
      "48000/48000 [==============================] - 2s 46us/step - loss: 0.0992 - accuracy: 0.9718 - val_loss: 0.1317 - val_accuracy: 0.9621\n",
      "Epoch 28/30\n",
      "48000/48000 [==============================] - 2s 48us/step - loss: 0.0962 - accuracy: 0.9720 - val_loss: 0.1316 - val_accuracy: 0.9618\n",
      "Epoch 29/30\n",
      "48000/48000 [==============================] - 2s 50us/step - loss: 0.0938 - accuracy: 0.9728 - val_loss: 0.1339 - val_accuracy: 0.9628\n",
      "Epoch 30/30\n",
      "48000/48000 [==============================] - 3s 64us/step - loss: 0.0915 - accuracy: 0.9737 - val_loss: 0.1327 - val_accuracy: 0.9635\n"
     ]
    },
    {
     "data": {
      "image/png": "[encoded data removed]",
      "text/plain": [
       "<Figure size 432x288 with 1 Axes>"
      ]
     },
     "metadata": {
      "needs_background": "light"
     },
     "output_type": "display_data"
    }
   ],
   "source": [
    "history = model.fit(X_train, Y_train, batch_size=64, epochs=30, verbose=1, \n",
    "                    validation_split=0.2)\n",
    "\n",
    "plt.plot(history.history[\"loss\"], label=\"train loss\")\n",
    "plt.plot(history.history[\"val_loss\"], label=\"validation loss\")\n",
    "plt.legend()\n",
    "plt.title(\"Loss\")\n",
    "plt.show()"
   ]
  },
  {
   "cell_type": "markdown",
   "metadata": {
    "colab_type": "text",
    "id": "go4XJWF-ySx5"
   },
   "source": [
    "### Step 5: Evaluate the Model performance"
   ]
  },
  {
   "cell_type": "code",
   "execution_count": 19,
   "metadata": {
    "colab": {
     "autoexec": {
      "startup": false,
      "wait_interval": 0
     },
     "base_uri": "https://localhost:8080/",
     "height": 71
    },
    "colab_type": "code",
    "executionInfo": {
     "elapsed": 1025,
     "status": "ok",
     "timestamp": 1525167075715,
     "user": {
      "displayName": "­조윤호(빅데이터경영통계전공)",
      "photoUrl": "https://lh3.googleusercontent.com/a/default-user=s128",
      "userId": "107121563618260277687"
     },
     "user_tz": -540
    },
    "id": "59JE1yQDySx7",
    "outputId": "830e533f-730e-4e8b-a3a4-a88ee8d7ecad"
   },
   "outputs": [
    {
     "name": "stdout",
     "output_type": "stream",
     "text": [
      "10000/10000 [==============================] - 0s 34us/step\n",
      "Test score: 0.11808365769470111\n",
      "Test accuracy: 0.9653000235557556\n"
     ]
    }
   ],
   "source": [
    "score = model.evaluate(X_test, Y_test, verbose=1)\n",
    "print(\"Test score:\", score[0])\n",
    "print('Test accuracy:', score[1])\n",
    "\n",
    "model.save('mnist_dnn_02.h5')"
   ]
  },
  {
   "cell_type": "markdown",
   "metadata": {},
   "source": [
    "<font color = \"#CC3D3D\"><br>\n",
    "## Case #3: Further improving the simple net in Keras with dropout"
   ]
  },
  {
   "cell_type": "markdown",
   "metadata": {
    "colab_type": "text",
    "id": "PPOWln24ySxl"
   },
   "source": [
    "### Step 2: Define the Model & its Architecture ###"
   ]
  },
  {
   "cell_type": "code",
   "execution_count": 20,
   "metadata": {},
   "outputs": [
    {
     "name": "stdout",
     "output_type": "stream",
     "text": [
      "Model: \"sequential_3\"\n",
      "_________________________________________________________________\n",
      "Layer (type)                 Output Shape              Param #   \n",
      "=================================================================\n",
      "dense_6 (Dense)              (None, 128)               100480    \n",
      "_________________________________________________________________\n",
      "activation_5 (Activation)    (None, 128)               0         \n",
      "_________________________________________________________________\n",
      "dropout_1 (Dropout)          (None, 128)               0         \n",
      "_________________________________________________________________\n",
      "dense_7 (Dense)              (None, 64)                8256      \n",
      "_________________________________________________________________\n",
      "activation_6 (Activation)    (None, 64)                0         \n",
      "_________________________________________________________________\n",
      "dropout_2 (Dropout)          (None, 64)                0         \n",
      "_________________________________________________________________\n",
      "dense_8 (Dense)              (None, 10)                650       \n",
      "_________________________________________________________________\n",
      "activation_7 (Activation)    (None, 10)                0         \n",
      "=================================================================\n",
      "Total params: 109,386\n",
      "Trainable params: 109,386\n",
      "Non-trainable params: 0\n",
      "_________________________________________________________________\n"
     ]
    }
   ],
   "source": [
    "from keras.layers.core import Dropout\n",
    "\n",
    "# Dropout : 층별로 오버피팅을 줄일 수 있도록 지정할 수 있다.\n",
    "model = Sequential()\n",
    "\n",
    "model.add(Dense(128, input_shape=(RESHAPED,)))\n",
    "moadel.add(Activation('relu'))\n",
    "model.add(Dropout(0.2)) # Dropout 비율을 20%로 하라\n",
    "\n",
    "model.add(Dense(64))\n",
    "model.add(Activation('relu'))\n",
    "model.add(Dropout(0.2))\n",
    "\n",
    "model.add(Dense(10))\n",
    "model.add(Activation('softmax'))\n",
    "\n",
    "model.summary()"
   ]
  },
  {
   "cell_type": "markdown",
   "metadata": {},
   "source": [
    "### Step 3: Choose the Optimizer and the Cost function"
   ]
  },
  {
   "cell_type": "code",
   "execution_count": 21,
   "metadata": {},
   "outputs": [],
   "source": [
    "model.compile(loss='categorical_crossentropy', optimizer=SGD(), metrics=['accuracy'])"
   ]
  },
  {
   "cell_type": "markdown",
   "metadata": {
    "colab_type": "text",
    "id": "_JWYMMeGySxy"
   },
   "source": [
    "### Step 4: Train the Model"
   ]
  },
  {
   "cell_type": "code",
   "execution_count": 22,
   "metadata": {},
   "outputs": [
    {
     "name": "stdout",
     "output_type": "stream",
     "text": [
      "Train on 48000 samples, validate on 12000 samples\n",
      "Epoch 1/30\n",
      "48000/48000 [==============================] - 3s 71us/step - loss: 1.6627 - accuracy: 0.4900 - val_loss: 0.8729 - val_accuracy: 0.8173\n",
      "Epoch 2/30\n",
      "48000/48000 [==============================] - 3s 56us/step - loss: 0.8645 - accuracy: 0.7406 - val_loss: 0.5139 - val_accuracy: 0.8750\n",
      "Epoch 3/30\n",
      "48000/48000 [==============================] - 3s 63us/step - loss: 0.6495 - accuracy: 0.8048 - val_loss: 0.4103 - val_accuracy: 0.8951\n",
      "Epoch 4/30\n",
      "48000/48000 [==============================] - 3s 61us/step - loss: 0.5526 - accuracy: 0.8344 - val_loss: 0.3606 - val_accuracy: 0.9046\n",
      "Epoch 5/30\n",
      "48000/48000 [==============================] - 3s 56us/step - loss: 0.4985 - accuracy: 0.8516 - val_loss: 0.3303 - val_accuracy: 0.9094\n",
      "Epoch 6/30\n",
      "48000/48000 [==============================] - 3s 60us/step - loss: 0.4628 - accuracy: 0.8645 - val_loss: 0.3071 - val_accuracy: 0.9137\n",
      "Epoch 7/30\n",
      "48000/48000 [==============================] - 3s 66us/step - loss: 0.4320 - accuracy: 0.8726 - val_loss: 0.2894 - val_accuracy: 0.9172\n",
      "Epoch 8/30\n",
      "48000/48000 [==============================] - 3s 59us/step - loss: 0.4050 - accuracy: 0.8820 - val_loss: 0.2756 - val_accuracy: 0.9202\n",
      "Epoch 9/30\n",
      "48000/48000 [==============================] - 3s 56us/step - loss: 0.3867 - accuracy: 0.8853 - val_loss: 0.2632 - val_accuracy: 0.9248\n",
      "Epoch 10/30\n",
      "48000/48000 [==============================] - 3s 61us/step - loss: 0.3694 - accuracy: 0.8911 - val_loss: 0.2521 - val_accuracy: 0.9274\n",
      "Epoch 11/30\n",
      "48000/48000 [==============================] - 3s 65us/step - loss: 0.3538 - accuracy: 0.8966 - val_loss: 0.2424 - val_accuracy: 0.9306\n",
      "Epoch 12/30\n",
      "48000/48000 [==============================] - 3s 64us/step - loss: 0.3409 - accuracy: 0.9003 - val_loss: 0.2334 - val_accuracy: 0.9324\n",
      "Epoch 13/30\n",
      "48000/48000 [==============================] - 3s 60us/step - loss: 0.3270 - accuracy: 0.9047 - val_loss: 0.2269 - val_accuracy: 0.9348\n",
      "Epoch 14/30\n",
      "48000/48000 [==============================] - 3s 66us/step - loss: 0.3164 - accuracy: 0.9077 - val_loss: 0.2195 - val_accuracy: 0.9367\n",
      "Epoch 15/30\n",
      "48000/48000 [==============================] - 3s 61us/step - loss: 0.3067 - accuracy: 0.9103 - val_loss: 0.2121 - val_accuracy: 0.9386\n",
      "Epoch 16/30\n",
      "48000/48000 [==============================] - 3s 57us/step - loss: 0.2991 - accuracy: 0.9132 - val_loss: 0.2059 - val_accuracy: 0.9410\n",
      "Epoch 17/30\n",
      "48000/48000 [==============================] - 3s 62us/step - loss: 0.2894 - accuracy: 0.9147 - val_loss: 0.2005 - val_accuracy: 0.9424\n",
      "Epoch 18/30\n",
      "48000/48000 [==============================] - 3s 65us/step - loss: 0.2818 - accuracy: 0.9181 - val_loss: 0.1949 - val_accuracy: 0.9438\n",
      "Epoch 19/30\n",
      "48000/48000 [==============================] - 3s 57us/step - loss: 0.2734 - accuracy: 0.9211 - val_loss: 0.1899 - val_accuracy: 0.9457\n",
      "Epoch 20/30\n",
      "48000/48000 [==============================] - 3s 56us/step - loss: 0.2686 - accuracy: 0.9211 - val_loss: 0.1862 - val_accuracy: 0.9464\n",
      "Epoch 21/30\n",
      "48000/48000 [==============================] - 3s 65us/step - loss: 0.2606 - accuracy: 0.9233 - val_loss: 0.1825 - val_accuracy: 0.9473\n",
      "Epoch 22/30\n",
      "48000/48000 [==============================] - 3s 62us/step - loss: 0.2570 - accuracy: 0.9253 - val_loss: 0.1773 - val_accuracy: 0.9496\n",
      "Epoch 23/30\n",
      "48000/48000 [==============================] - 3s 58us/step - loss: 0.2507 - accuracy: 0.9265 - val_loss: 0.1739 - val_accuracy: 0.9500\n",
      "Epoch 24/30\n",
      "48000/48000 [==============================] - 3s 59us/step - loss: 0.2423 - accuracy: 0.9286 - val_loss: 0.1705 - val_accuracy: 0.9512\n",
      "Epoch 25/30\n",
      "48000/48000 [==============================] - 3s 65us/step - loss: 0.2371 - accuracy: 0.9313 - val_loss: 0.1667 - val_accuracy: 0.9524\n",
      "Epoch 26/30\n",
      "48000/48000 [==============================] - 3s 59us/step - loss: 0.2292 - accuracy: 0.9334 - val_loss: 0.1643 - val_accuracy: 0.9529\n",
      "Epoch 27/30\n",
      "48000/48000 [==============================] - 3s 60us/step - loss: 0.2290 - accuracy: 0.9326 - val_loss: 0.1604 - val_accuracy: 0.9539\n",
      "Epoch 28/30\n",
      "48000/48000 [==============================] - 3s 65us/step - loss: 0.2256 - accuracy: 0.9338 - val_loss: 0.1578 - val_accuracy: 0.9552\n",
      "Epoch 29/30\n",
      "48000/48000 [==============================] - 3s 61us/step - loss: 0.2185 - accuracy: 0.9367 - val_loss: 0.1551 - val_accuracy: 0.9553\n",
      "Epoch 30/30\n",
      "48000/48000 [==============================] - 3s 57us/step - loss: 0.2203 - accuracy: 0.9349 - val_loss: 0.1528 - val_accuracy: 0.9555\n"
     ]
    },
    {
     "data": {
      "image/png": "[encoded data removed]",
      "text/plain": [
       "<Figure size 432x288 with 1 Axes>"
      ]
     },
     "metadata": {
      "needs_background": "light"
     },
     "output_type": "display_data"
    }
   ],
   "source": [
    "history = model.fit(X_train, Y_train, batch_size=128, epochs=30, verbose=1, \n",
    "                    validation_split=0.2)\n",
    "\n",
    "plt.plot(history.history[\"loss\"], label=\"train loss\")\n",
    "plt.plot(history.history[\"val_loss\"], label=\"validation loss\")\n",
    "plt.legend()\n",
    "plt.title(\"Loss\")\n",
    "plt.show()"
   ]
  },
  {
   "cell_type": "markdown",
   "metadata": {
    "colab_type": "text",
    "id": "go4XJWF-ySx5"
   },
   "source": [
    "### Step 5: Evaluate the Model performance"
   ]
  },
  {
   "cell_type": "code",
   "execution_count": 23,
   "metadata": {},
   "outputs": [
    {
     "name": "stdout",
     "output_type": "stream",
     "text": [
      "10000/10000 [==============================] - 0s 35us/step\n",
      "Test score: 0.14982336779050529\n",
      "Test accuracy: 0.9552000164985657\n"
     ]
    }
   ],
   "source": [
    "score = model.evaluate(X_test, Y_test, verbose=1)\n",
    "print(\"Test score:\", score[0])\n",
    "print('Test accuracy:', score[1])\n",
    "\n",
    "model.save('mnist_dnn_03.h5')"
   ]
  },
  {
   "cell_type": "markdown",
   "metadata": {},
   "source": [
    "<font color = \"#CC3D3D\"><br>\n",
    "## Case #4: Testing different optimizers in Keras "
   ]
  },
  {
   "cell_type": "markdown",
   "metadata": {
    "colab_type": "text",
    "id": "PPOWln24ySxl"
   },
   "source": [
    "### Step 2: Define the Model & its Architecture ###"
   ]
  },
  {
   "cell_type": "code",
   "execution_count": 24,
   "metadata": {},
   "outputs": [
    {
     "name": "stdout",
     "output_type": "stream",
     "text": [
      "Model: \"sequential_4\"\n",
      "_________________________________________________________________\n",
      "Layer (type)                 Output Shape              Param #   \n",
      "=================================================================\n",
      "dense_9 (Dense)              (None, 128)               100480    \n",
      "_________________________________________________________________\n",
      "activation_8 (Activation)    (None, 128)               0         \n",
      "_________________________________________________________________\n",
      "dropout_3 (Dropout)          (None, 128)               0         \n",
      "_________________________________________________________________\n",
      "dense_10 (Dense)             (None, 64)                8256      \n",
      "_________________________________________________________________\n",
      "activation_9 (Activation)    (None, 64)                0         \n",
      "_________________________________________________________________\n",
      "dropout_4 (Dropout)          (None, 64)                0         \n",
      "_________________________________________________________________\n",
      "dense_11 (Dense)             (None, 10)                650       \n",
      "_________________________________________________________________\n",
      "activation_10 (Activation)   (None, 10)                0         \n",
      "=================================================================\n",
      "Total params: 109,386\n",
      "Trainable params: 109,386\n",
      "Non-trainable params: 0\n",
      "_________________________________________________________________\n"
     ]
    }
   ],
   "source": [
    "model = Sequential()\n",
    "model.add(Dense(128, input_shape=(RESHAPED,)))\n",
    "model.add(Activation('relu'))\n",
    "model.add(Dropout(0.2))\n",
    "model.add(Dense(64))\n",
    "model.add(Activation('relu'))\n",
    "model.add(Dropout(0.2))\n",
    "model.add(Dense(10))\n",
    "model.add(Activation('softmax'))\n",
    "model.summary()"
   ]
  },
  {
   "cell_type": "markdown",
   "metadata": {},
   "source": [
    "### Step 3: Choose the Optimizer and the Cost function"
   ]
  },
  {
   "cell_type": "code",
   "execution_count": 25,
   "metadata": {},
   "outputs": [],
   "source": [
    "from keras.optimizers import Adam\n",
    "\n",
    "model.compile(loss='categorical_crossentropy', optimizer=Adam(), metrics=['accuracy'])"
   ]
  },
  {
   "cell_type": "markdown",
   "metadata": {
    "colab_type": "text",
    "id": "_JWYMMeGySxy"
   },
   "source": [
    "### Step 4: Train the Model"
   ]
  },
  {
   "cell_type": "code",
   "execution_count": 26,
   "metadata": {},
   "outputs": [
    {
     "name": "stdout",
     "output_type": "stream",
     "text": [
      "Train on 48000 samples, validate on 12000 samples\n",
      "Epoch 1/30\n",
      "48000/48000 [==============================] - 8s 172us/step - loss: 0.4218 - accuracy: 0.8727 - val_loss: 0.1679 - val_accuracy: 0.9507\n",
      "Epoch 2/30\n",
      "48000/48000 [==============================] - 7s 142us/step - loss: 0.1908 - accuracy: 0.9440 - val_loss: 0.1190 - val_accuracy: 0.9638\n",
      "Epoch 3/30\n",
      "48000/48000 [==============================] - 7s 145us/step - loss: 0.1435 - accuracy: 0.9563 - val_loss: 0.1053 - val_accuracy: 0.9692\n",
      "Epoch 4/30\n",
      "48000/48000 [==============================] - 8s 157us/step - loss: 0.1205 - accuracy: 0.9642 - val_loss: 0.0951 - val_accuracy: 0.9712\n",
      "Epoch 5/30\n",
      "48000/48000 [==============================] - 8s 159us/step - loss: 0.1032 - accuracy: 0.9687 - val_loss: 0.0889 - val_accuracy: 0.9717\n",
      "Epoch 6/30\n",
      "48000/48000 [==============================] - 7s 148us/step - loss: 0.0922 - accuracy: 0.9713 - val_loss: 0.0898 - val_accuracy: 0.9740\n",
      "Epoch 7/30\n",
      "48000/48000 [==============================] - 7s 151us/step - loss: 0.0797 - accuracy: 0.9753 - val_loss: 0.0854 - val_accuracy: 0.9742\n",
      "Epoch 8/30\n",
      "48000/48000 [==============================] - 7s 156us/step - loss: 0.0744 - accuracy: 0.9765 - val_loss: 0.0862 - val_accuracy: 0.9760\n",
      "Epoch 9/30\n",
      "48000/48000 [==============================] - 8s 161us/step - loss: 0.0701 - accuracy: 0.9781 - val_loss: 0.0817 - val_accuracy: 0.9768\n",
      "Epoch 10/30\n",
      "48000/48000 [==============================] - 7s 151us/step - loss: 0.0647 - accuracy: 0.9794 - val_loss: 0.0839 - val_accuracy: 0.9755\n",
      "Epoch 11/30\n",
      "48000/48000 [==============================] - 7s 156us/step - loss: 0.0584 - accuracy: 0.9813 - val_loss: 0.0791 - val_accuracy: 0.9772\n",
      "Epoch 12/30\n",
      "48000/48000 [==============================] - 7s 154us/step - loss: 0.0547 - accuracy: 0.9827 - val_loss: 0.0883 - val_accuracy: 0.9753\n",
      "Epoch 13/30\n",
      "48000/48000 [==============================] - 7s 149us/step - loss: 0.0522 - accuracy: 0.9830 - val_loss: 0.0816 - val_accuracy: 0.9790\n",
      "Epoch 14/30\n",
      "48000/48000 [==============================] - 7s 156us/step - loss: 0.0491 - accuracy: 0.9842 - val_loss: 0.0795 - val_accuracy: 0.9786\n",
      "Epoch 15/30\n",
      "48000/48000 [==============================] - 8s 158us/step - loss: 0.0460 - accuracy: 0.9850 - val_loss: 0.0877 - val_accuracy: 0.9773\n",
      "Epoch 16/30\n",
      "48000/48000 [==============================] - 8s 161us/step - loss: 0.0456 - accuracy: 0.9858 - val_loss: 0.0866 - val_accuracy: 0.9781\n",
      "Epoch 17/30\n",
      "48000/48000 [==============================] - 7s 151us/step - loss: 0.0462 - accuracy: 0.9850 - val_loss: 0.0832 - val_accuracy: 0.9781\n",
      "Epoch 18/30\n",
      "48000/48000 [==============================] - 8s 158us/step - loss: 0.0427 - accuracy: 0.9861 - val_loss: 0.0924 - val_accuracy: 0.9765\n",
      "Epoch 19/30\n",
      "48000/48000 [==============================] - 8s 159us/step - loss: 0.0425 - accuracy: 0.9862 - val_loss: 0.0826 - val_accuracy: 0.9788\n",
      "Epoch 20/30\n",
      "48000/48000 [==============================] - 7s 150us/step - loss: 0.0375 - accuracy: 0.9876 - val_loss: 0.0826 - val_accuracy: 0.9795\n",
      "Epoch 21/30\n",
      "48000/48000 [==============================] - 7s 155us/step - loss: 0.0359 - accuracy: 0.9880 - val_loss: 0.0887 - val_accuracy: 0.9779\n",
      "Epoch 22/30\n",
      "48000/48000 [==============================] - 8s 157us/step - loss: 0.0347 - accuracy: 0.9882 - val_loss: 0.0890 - val_accuracy: 0.9792\n",
      "Epoch 23/30\n",
      "48000/48000 [==============================] - 7s 154us/step - loss: 0.0363 - accuracy: 0.9884 - val_loss: 0.0869 - val_accuracy: 0.9785\n",
      "Epoch 24/30\n",
      "48000/48000 [==============================] - 7s 155us/step - loss: 0.0317 - accuracy: 0.9897 - val_loss: 0.0942 - val_accuracy: 0.9789\n",
      "Epoch 25/30\n",
      "48000/48000 [==============================] - 8s 175us/step - loss: 0.0366 - accuracy: 0.9878 - val_loss: 0.0957 - val_accuracy: 0.9780\n",
      "Epoch 26/30\n",
      "48000/48000 [==============================] - 8s 174us/step - loss: 0.0329 - accuracy: 0.9889 - val_loss: 0.0977 - val_accuracy: 0.9787\n",
      "Epoch 27/30\n",
      "48000/48000 [==============================] - 8s 158us/step - loss: 0.0306 - accuracy: 0.9899 - val_loss: 0.0914 - val_accuracy: 0.9800\n",
      "Epoch 28/30\n",
      "48000/48000 [==============================] - 8s 157us/step - loss: 0.0307 - accuracy: 0.9897 - val_loss: 0.0896 - val_accuracy: 0.9800\n",
      "Epoch 29/30\n",
      "48000/48000 [==============================] - 7s 143us/step - loss: 0.0305 - accuracy: 0.9902 - val_loss: 0.1030 - val_accuracy: 0.9768\n",
      "Epoch 30/30\n",
      "48000/48000 [==============================] - 8s 165us/step - loss: 0.0273 - accuracy: 0.9912 - val_loss: 0.0947 - val_accuracy: 0.9801\n"
     ]
    },
    {
     "data": {
      "image/png": "[encoded data removed]",
      "text/plain": [
       "<Figure size 432x288 with 1 Axes>"
      ]
     },
     "metadata": {
      "needs_background": "light"
     },
     "output_type": "display_data"
    }
   ],
   "source": [
    "history = model.fit(X_train, Y_train, batch_size=128, epochs=30, verbose=1, \n",
    "                    validation_split=0.2)\n",
    "\n",
    "plt.plot(history.history[\"loss\"], label=\"train loss\")\n",
    "plt.plot(history.history[\"val_loss\"], label=\"validation loss\")\n",
    "plt.legend()\n",
    "plt.title(\"Loss\")\n",
    "plt.show()"
   ]
  },
  {
   "cell_type": "markdown",
   "metadata": {
    "colab_type": "text",
    "id": "go4XJWF-ySx5"
   },
   "source": [
    "### Step 5: Evaluate the Model performance"
   ]
  },
  {
   "cell_type": "code",
   "execution_count": 27,
   "metadata": {},
   "outputs": [
    {
     "name": "stdout",
     "output_type": "stream",
     "text": [
      "10000/10000 [==============================] - 0s 37us/step\n",
      "Test score: 0.09050945590733601\n",
      "Test accuracy: 0.9811999797821045\n"
     ]
    }
   ],
   "source": [
    "score = model.evaluate(X_test, Y_test, verbose=1)\n",
    "print(\"Test score:\", score[0])\n",
    "print('Test accuracy:', score[1])\n",
    "\n",
    "model.save('mnist_dnn_04.h5')"
   ]
  },
  {
   "cell_type": "markdown",
   "metadata": {},
   "source": [
    "<font color = \"#CC3D3D\"><br>\n",
    "## Case #5: Adopting regularization for avoiding overfitting\n",
    "<br><img src=\"https://i.stack.imgur.com/j2F6j.png\" width=600 height=400>"
   ]
  },
  {
   "cell_type": "markdown",
   "metadata": {},
   "source": [
    "### Step 2: Define the Model & its Architecture"
   ]
  },
  {
   "cell_type": "code",
   "execution_count": 28,
   "metadata": {},
   "outputs": [
    {
     "name": "stdout",
     "output_type": "stream",
     "text": [
      "Model: \"sequential_5\"\n",
      "_________________________________________________________________\n",
      "Layer (type)                 Output Shape              Param #   \n",
      "=================================================================\n",
      "dense_12 (Dense)             (None, 128)               100480    \n",
      "_________________________________________________________________\n",
      "batch_normalization_1 (Batch (None, 128)               512       \n",
      "_________________________________________________________________\n",
      "activation_11 (Activation)   (None, 128)               0         \n",
      "_________________________________________________________________\n",
      "dropout_5 (Dropout)          (None, 128)               0         \n",
      "_________________________________________________________________\n",
      "dense_13 (Dense)             (None, 64)                8256      \n",
      "_________________________________________________________________\n",
      "batch_normalization_2 (Batch (None, 64)                256       \n",
      "_________________________________________________________________\n",
      "activation_12 (Activation)   (None, 64)                0         \n",
      "_________________________________________________________________\n",
      "dropout_6 (Dropout)          (None, 64)                0         \n",
      "_________________________________________________________________\n",
      "dense_14 (Dense)             (None, 10)                650       \n",
      "_________________________________________________________________\n",
      "activation_13 (Activation)   (None, 10)                0         \n",
      "=================================================================\n",
      "Total params: 110,154\n",
      "Trainable params: 109,770\n",
      "Non-trainable params: 384\n",
      "_________________________________________________________________\n"
     ]
    }
   ],
   "source": [
    "# 오버피팅을 줄이는 방법\n",
    "from keras import regularizers\n",
    "\n",
    "# Max norm constraints: \n",
    "# refer to http://cs231n.github.io/neural-networks-2/#reg\n",
    "from keras.constraints import max_norm\n",
    "\n",
    "# Batch normalization layer normalizes the activations of the previous layer at each batch,\n",
    "# i.e. applies a transformation that maintains the mean activation close to 0 \n",
    "# and the activation standard deviation close to 1.\n",
    "from keras.layers import BatchNormalization\n",
    "\n",
    "model = Sequential()\n",
    "#model.add(Dense(128, input_shape=(RESHAPED,), kernel_regularizer=regularizers.l2(0.01), kernel_initializer=\"glorot_normal\"))\n",
    "model.add(Dense(128, input_shape=(RESHAPED,), kernel_constraint=max_norm(2.), kernel_initializer=\"he_normal\"))\n",
    "model.add(BatchNormalization())\n",
    "model.add(Activation('relu'))\n",
    "model.add(Dropout(0.2))\n",
    "#model.add(Dense(64, kernel_regularizer=regularizers.l2(0.01), kernel_initializer=\"glorot_normal\"))\n",
    "model.add(Dense(64, kernel_constraint=max_norm(2.), kernel_initializer=\"he_normal\"))\n",
    "model.add(BatchNormalization())\n",
    "model.add(Activation('relu'))\n",
    "model.add(Dropout(0.2))\n",
    "model.add(Dense(10))\n",
    "model.add(Activation('softmax'))\n",
    "model.summary()"
   ]
  },
  {
   "cell_type": "markdown",
   "metadata": {},
   "source": [
    "### Step 3: Choose the Optimizer and the Cost function"
   ]
  },
  {
   "cell_type": "code",
   "execution_count": 29,
   "metadata": {},
   "outputs": [],
   "source": [
    "model.compile(loss='categorical_crossentropy', optimizer=Adam(), metrics=['accuracy'])"
   ]
  },
  {
   "cell_type": "markdown",
   "metadata": {},
   "source": [
    "### Step 4: Train the Model"
   ]
  },
  {
   "cell_type": "code",
   "execution_count": 30,
   "metadata": {},
   "outputs": [
    {
     "name": "stdout",
     "output_type": "stream",
     "text": [
      "Train on 48000 samples, validate on 12000 samples\n",
      "Epoch 1/30\n",
      "48000/48000 [==============================] - 9s 191us/step - loss: 0.5048 - accuracy: 0.8587 - val_loss: 0.1867 - val_accuracy: 0.9487\n",
      "Epoch 2/30\n",
      "48000/48000 [==============================] - 6s 131us/step - loss: 0.2219 - accuracy: 0.9357 - val_loss: 0.1299 - val_accuracy: 0.9616\n",
      "Epoch 3/30\n",
      "48000/48000 [==============================] - 7s 145us/step - loss: 0.1677 - accuracy: 0.9496 - val_loss: 0.1129 - val_accuracy: 0.9651\n",
      "Epoch 4/30\n",
      "48000/48000 [==============================] - 7s 148us/step - loss: 0.1416 - accuracy: 0.9577 - val_loss: 0.0992 - val_accuracy: 0.9697\n",
      "Epoch 5/30\n",
      "48000/48000 [==============================] - 6s 132us/step - loss: 0.1238 - accuracy: 0.9618 - val_loss: 0.0934 - val_accuracy: 0.9715\n",
      "Epoch 6/30\n",
      "48000/48000 [==============================] - 7s 145us/step - loss: 0.1088 - accuracy: 0.9662 - val_loss: 0.0844 - val_accuracy: 0.9735\n",
      "Epoch 7/30\n",
      "48000/48000 [==============================] - 8s 158us/step - loss: 0.1002 - accuracy: 0.9688 - val_loss: 0.0821 - val_accuracy: 0.9753\n",
      "Epoch 8/30\n",
      "48000/48000 [==============================] - 6s 132us/step - loss: 0.0883 - accuracy: 0.9716 - val_loss: 0.0847 - val_accuracy: 0.9747\n",
      "Epoch 9/30\n",
      "48000/48000 [==============================] - 7s 148us/step - loss: 0.0845 - accuracy: 0.9731 - val_loss: 0.0793 - val_accuracy: 0.9758\n",
      "Epoch 10/30\n",
      "48000/48000 [==============================] - 7s 144us/step - loss: 0.0805 - accuracy: 0.9741 - val_loss: 0.0850 - val_accuracy: 0.9741\n",
      "Epoch 11/30\n",
      "48000/48000 [==============================] - 7s 145us/step - loss: 0.0776 - accuracy: 0.9751 - val_loss: 0.0771 - val_accuracy: 0.9772\n",
      "Epoch 12/30\n",
      "48000/48000 [==============================] - 7s 146us/step - loss: 0.0695 - accuracy: 0.9774 - val_loss: 0.0782 - val_accuracy: 0.9768\n",
      "Epoch 13/30\n",
      "48000/48000 [==============================] - 7s 145us/step - loss: 0.0665 - accuracy: 0.9787 - val_loss: 0.0794 - val_accuracy: 0.9778\n",
      "Epoch 14/30\n",
      "48000/48000 [==============================] - 7s 137us/step - loss: 0.0619 - accuracy: 0.9794 - val_loss: 0.0755 - val_accuracy: 0.9785\n",
      "Epoch 15/30\n",
      "48000/48000 [==============================] - 7s 146us/step - loss: 0.0613 - accuracy: 0.9795 - val_loss: 0.0774 - val_accuracy: 0.9774\n",
      "Epoch 16/30\n",
      "48000/48000 [==============================] - 7s 149us/step - loss: 0.0591 - accuracy: 0.9807 - val_loss: 0.0727 - val_accuracy: 0.9782\n",
      "Epoch 17/30\n",
      "48000/48000 [==============================] - 7s 153us/step - loss: 0.0558 - accuracy: 0.9814 - val_loss: 0.0846 - val_accuracy: 0.9777\n",
      "Epoch 18/30\n",
      "48000/48000 [==============================] - 8s 161us/step - loss: 0.0563 - accuracy: 0.9815 - val_loss: 0.0864 - val_accuracy: 0.9767\n",
      "Epoch 19/30\n",
      "48000/48000 [==============================] - 7s 136us/step - loss: 0.0538 - accuracy: 0.9819 - val_loss: 0.0820 - val_accuracy: 0.9787\n"
     ]
    },
    {
     "data": {
      "image/png": "[encoded data removed]",
      "text/plain": [
       "<Figure size 432x288 with 1 Axes>"
      ]
     },
     "metadata": {
      "needs_background": "light"
     },
     "output_type": "display_data"
    }
   ],
   "source": [
    "# Early stopping is basically stopping the training once your loss starts to increase.\n",
    "# 학습 조기 종료를 위해 더 이상 개선의 여지가 없을 때 학습을 종료시키는 콜백함수\n",
    "from keras.callbacks import EarlyStopping\n",
    "early_stop = EarlyStopping(patience=3)\n",
    "# patience : 개선이 없다고 바로 종료하지 않고 개선이 없는 에포크를 얼마나 기다려 \n",
    "#           줄 것인 가를 지정합니다. \n",
    "# 만약 10이라고 지정하면 개선이 없는 에포크가 10번째 지속될 경우 학습을 종료합니다.\n",
    "\n",
    "history = model.fit(X_train, Y_train, batch_size=128, epochs=30, verbose=1, \n",
    "                    validation_split=0.2, callbacks=[early_stop])\n",
    "\n",
    "plt.plot(history.history[\"loss\"], label=\"train loss\")\n",
    "plt.plot(history.history[\"val_loss\"], label=\"validation loss\")\n",
    "plt.legend()\n",
    "plt.title(\"Loss\")\n",
    "plt.show()"
   ]
  },
  {
   "cell_type": "markdown",
   "metadata": {},
   "source": [
    "### Step 5: Evaluate the Model performance"
   ]
  },
  {
   "cell_type": "code",
   "execution_count": 31,
   "metadata": {},
   "outputs": [
    {
     "name": "stdout",
     "output_type": "stream",
     "text": [
      "10000/10000 [==============================] - 1s 81us/step\n",
      "Test score: 0.07482093827033531\n",
      "Test accuracy: 0.9783999919891357\n"
     ]
    }
   ],
   "source": [
    "score = model.evaluate(X_test, Y_test, verbose=1)\n",
    "print(\"Test score:\", score[0])\n",
    "print('Test accuracy:', score[1])\n",
    "\n",
    "model.save('mnist_dnn_05.h5')"
   ]
  },
  {
   "cell_type": "markdown",
   "metadata": {},
   "source": [
    "<font color = \"#CC3D3D\"><br>\n",
    "## Case #6: Optimizing hyperparameters with Keras-scikit-wrapper"
   ]
  },
  {
   "cell_type": "markdown",
   "metadata": {},
   "source": [
    "##### 1) Define a function which constructs, compiles and returns a Keras model"
   ]
  },
  {
   "cell_type": "code",
   "execution_count": 32,
   "metadata": {},
   "outputs": [],
   "source": [
    "def dnn_model(optimizer=Adam(), dropout_rate=0.0):\n",
    "    # Define the model & its architecture    \n",
    "    model = Sequential()\n",
    "    model.add(Dense(128, input_shape=(RESHAPED,), activation='relu'))\n",
    "    model.add(Dropout(dropout_rate))\n",
    "    model.add(Dense(64, activation='relu'))\n",
    "    model.add(Dropout(dropout_rate))\n",
    "    model.add(Dense(10, activation='softmax'))\n",
    "    # Choose the optimizer and the cost function\n",
    "    model.compile(loss='categorical_crossentropy', optimizer=optimizer, metrics=['accuracy'])\n",
    "    # Return model           \n",
    "    return model"
   ]
  },
  {
   "cell_type": "markdown",
   "metadata": {},
   "source": [
    "##### 2) Instantiate `KerasClassifier` which implements the Scikit-Learn classifier interface"
   ]
  },
  {
   "cell_type": "code",
   "execution_count": 33,
   "metadata": {},
   "outputs": [],
   "source": [
    "from keras.wrappers.scikit_learn import KerasClassifier\n",
    "# call Keras scikit wrapper\n",
    "dnn = KerasClassifier(build_fn=dnn_model, epochs=1)"
   ]
  },
  {
   "cell_type": "markdown",
   "metadata": {},
   "source": [
    "##### 3) Apply scikit-learn's `RandomizedSearchCV` (or `GridSearchCV`)"
   ]
  },
  {
   "cell_type": "code",
   "execution_count": 34,
   "metadata": {},
   "outputs": [
    {
     "name": "stdout",
     "output_type": "stream",
     "text": [
      "Epoch 1/1\n",
      "40000/40000 [==============================] - 10s 250us/step - loss: 0.6724 - accuracy: 0.7913\n",
      "20000/20000 [==============================] - 1s 65us/step\n",
      "Epoch 1/1\n",
      "40000/40000 [==============================] - 10s 239us/step - loss: 0.6628 - accuracy: 0.7980\n",
      "20000/20000 [==============================] - 1s 60us/step\n",
      "Epoch 1/1\n",
      "40000/40000 [==============================] - 9s 233us/step - loss: 0.6725 - accuracy: 0.7940\n",
      "20000/20000 [==============================] - 1s 48us/step\n",
      "Epoch 1/1\n",
      "40000/40000 [==============================] - 11s 270us/step - loss: 0.3955 - accuracy: 0.8798\n",
      "20000/20000 [==============================] - 1s 49us/step\n",
      "Epoch 1/1\n",
      "40000/40000 [==============================] - 12s 309us/step - loss: 0.3955 - accuracy: 0.8815\n",
      "20000/20000 [==============================] - 1s 57us/step\n",
      "Epoch 1/1\n",
      "40000/40000 [==============================] - 13s 314us/step - loss: 0.3957 - accuracy: 0.8816\n",
      "20000/20000 [==============================] - 1s 51us/step\n",
      "Epoch 1/1\n",
      "40000/40000 [==============================] - 4s 111us/step - loss: 0.8275 - accuracy: 0.7363\n",
      "20000/20000 [==============================] - 1s 30us/step\n",
      "Epoch 1/1\n",
      "40000/40000 [==============================] - 4s 108us/step - loss: 0.8304 - accuracy: 0.7359\n",
      "20000/20000 [==============================] - 1s 31us/step\n",
      "Epoch 1/1\n",
      "40000/40000 [==============================] - 4s 103us/step - loss: 0.8184 - accuracy: 0.7396\n",
      "20000/20000 [==============================] - 1s 50us/step\n",
      "Epoch 1/1\n",
      "40000/40000 [==============================] - 7s 171us/step - loss: 0.7774 - accuracy: 0.7541\n",
      "20000/20000 [==============================] - 1s 56us/step\n",
      "Epoch 1/1\n",
      "40000/40000 [==============================] - 7s 183us/step - loss: 0.7588 - accuracy: 0.7589\n",
      "20000/20000 [==============================] - 1s 38us/step\n",
      "Epoch 1/1\n",
      "40000/40000 [==============================] - 7s 172us/step - loss: 0.7594 - accuracy: 0.7592\n",
      "20000/20000 [==============================] - 1s 41us/step\n",
      "Epoch 1/1\n",
      "40000/40000 [==============================] - 3s 66us/step - loss: 0.3726 - accuracy: 0.8957\n",
      "20000/20000 [==============================] - 1s 37us/step\n",
      "Epoch 1/1\n",
      "40000/40000 [==============================] - 3s 67us/step - loss: 0.3663 - accuracy: 0.8992\n",
      "20000/20000 [==============================] - 1s 29us/step\n",
      "Epoch 1/1\n",
      "40000/40000 [==============================] - 3s 72us/step - loss: 0.3796 - accuracy: 0.8932\n",
      "20000/20000 [==============================] - 1s 30us/step\n",
      "Epoch 1/1\n",
      "60000/60000 [==============================] - 17s 290us/step - loss: 0.3341 - accuracy: 0.8985\n",
      "10000/10000 [==============================] - 1s 105us/step\n",
      "0.9603000283241272\n",
      "Best: 0.948450 using {'optimizer': 'adam', 'dropout_rate': 0.2, 'batch_size': 32}\n",
      "0.926067 (0.003108) with: {'optimizer': 'rmsprop', 'dropout_rate': 0.5, 'batch_size': 32}\n",
      "0.948450 (0.001188) with: {'optimizer': 'adam', 'dropout_rate': 0.2, 'batch_size': 32}\n",
      "0.914750 (0.003156) with: {'optimizer': 'rmsprop', 'dropout_rate': 0.5, 'batch_size': 128}\n",
      "0.924400 (0.003715) with: {'optimizer': 'adam', 'dropout_rate': 0.5, 'batch_size': 64}\n",
      "0.937883 (0.002292) with: {'optimizer': 'rmsprop', 'dropout_rate': 0.0, 'batch_size': 128}\n"
     ]
    }
   ],
   "source": [
    "from sklearn.model_selection import RandomizedSearchCV\n",
    "\n",
    "# Specify parameters and distributions to sample from\n",
    "param_dist = {\n",
    "    'dropout_rate': [0.0, 0.2, 0.5], \n",
    "    'optimizer': ['rmsprop', 'adam'], \n",
    "    'batch_size': [32, 64, 128]\n",
    "}\n",
    "\n",
    "# Run randomized search\n",
    "#n_iter : int, 훈련 데이터셋 반복 횟수\n",
    "n_iter_search = 5\n",
    "random_search = RandomizedSearchCV(dnn, param_distributions=param_dist, n_iter=n_iter_search, cv=3)\n",
    "random_search.fit(X_train, y_train)\n",
    "print(random_search.score(X_test, y_test))\n",
    "\n",
    "# Summarize results\n",
    "print(\"Best: %f using %s\" % (random_search.best_score_, random_search.best_params_))\n",
    "means = random_search.cv_results_['mean_test_score']\n",
    "stds = random_search.cv_results_['std_test_score']\n",
    "params = random_search.cv_results_['params']\n",
    "for mean, stdev, param in zip(means, stds, params):\n",
    "    print(\"%f (%f) with: %s\" % (mean, stdev, param))"
   ]
  },
  {
   "cell_type": "markdown",
   "metadata": {},
   "source": [
    "## End"
   ]
  },
  {
   "cell_type": "code",
   "execution_count": null,
   "metadata": {},
   "outputs": [],
   "source": []
  }
 ],
 "metadata": {
  "colab": {
   "collapsed_sections": [],
   "default_view": {},
   "name": "code_DNN_01.ipynb",
   "provenance": [],
   "version": "0.3.2",
   "views": {}
  },
  "kernelspec": {
   "display_name": "Python 3",
   "language": "python",
   "name": "python3"
  },
  "language_info": {
   "codemirror_mode": {
    "name": "ipython",
    "version": 3
   },
   "file_extension": ".py",
   "mimetype": "text/x-python",
   "name": "python",
   "nbconvert_exporter": "python",
   "pygments_lexer": "ipython3",
   "version": "3.7.4"
  }
 },
 "nbformat": 4,
 "nbformat_minor": 4
}
